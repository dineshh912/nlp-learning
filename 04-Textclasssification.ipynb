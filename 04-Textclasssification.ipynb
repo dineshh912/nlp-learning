{
 "cells": [
  {
   "cell_type": "markdown",
   "metadata": {},
   "source": [
    "# Text Classification\n",
    "    It's a techinque to assign one or more categories in to give specific text based on its context. any supervised classsification can be further classified into four categories.\n",
    "    * Binary\n",
    "    * Multi class\n",
    "    * Multi label\n",
    "    "
   ]
  },
  {
   "cell_type": "markdown",
   "metadata": {},
   "source": [
    "### Applications\n",
    "    \n",
    "    * Content classification and organization\n",
    "        This refers to the task of classifying/tagging large amounts of textual data.\n",
    "\n",
    "    * Customer support\n",
    "        Customers ofter use social media to express their opinions abou service or product. Text classificaio often used to indentify the tweets and brnds must reponsd to and those that don't require response.\n",
    "\n",
    "    * E-Commerce\n",
    "        Customer leaves review for a range of products in e-commerce websites. text classification in this kind of undestand and analyze customers's preception of the product and service based commands.\n",
    "\n",
    "    * Language identification\n",
    "    * Authorship attribution\n",
    "    * Segregate fake news from real news.\n",
    "        "
   ]
  },
  {
   "cell_type": "markdown",
   "metadata": {},
   "source": [
    "### Pipeline for Text classification\n",
    "    \n",
    "    - Collect or create labeled data set\n",
    "    - Split the dataset into two or three parts. (Training, validation, test) then decide evaluvation metrics\n",
    "    - Transform raw text into feature vectors\n",
    "    - Train a classifier using the feature vectors and the correponding label from the training set.\n",
    "    - Use evavuation metrics, benchmark the model performance on the test set.\n",
    "    - Deploy the model to serve real world use case.\n",
    "    "
   ]
  },
  {
   "cell_type": "markdown",
   "metadata": {},
   "source": [
    "### One pipeline, Many classifiers"
   ]
  },
  {
   "cell_type": "code",
   "execution_count": null,
   "metadata": {},
   "outputs": [],
   "source": [
    "# Economic News Article Tone and Relevance"
   ]
  },
  {
   "cell_type": "code",
   "execution_count": 28,
   "metadata": {},
   "outputs": [],
   "source": [
    "# IMporting nessary models\n",
    "import numpy as np\n",
    "import pandas as pd\n",
    "\n",
    "import matplotlib.pyplot as plt\n",
    "\n",
    "from sklearn.feature_extraction.text import CountVectorizer\n",
    "from wordcloud import STOPWORDS\n",
    "\n",
    "import string\n",
    "import re\n",
    "\n",
    "from sklearn.naive_bayes import MultinomialNB\n",
    "from sklearn.linear_model import LogisticRegression\n",
    "from sklearn.svm import LinearSVC\n",
    "\n",
    "from sklearn.metrics import accuracy_score\n",
    "from sklearn.metrics import confusion_matrix\n",
    "from sklearn import metrics\n",
    "\n",
    "from time import time"
   ]
  },
  {
   "cell_type": "code",
   "execution_count": 7,
   "metadata": {},
   "outputs": [],
   "source": [
    "data_path = '../data/Full-Economic-News-DFE-839861.csv'\n",
    "\n",
    "df = pd.read_csv(data_path, encoding='ISO-8859-1')"
   ]
  },
  {
   "cell_type": "code",
   "execution_count": 8,
   "metadata": {},
   "outputs": [
    {
     "data": {
      "text/plain": [
       "(8000, 15)"
      ]
     },
     "execution_count": 8,
     "metadata": {},
     "output_type": "execute_result"
    }
   ],
   "source": [
    "df.shape"
   ]
  },
  {
   "cell_type": "code",
   "execution_count": 9,
   "metadata": {},
   "outputs": [
    {
     "data": {
      "text/plain": [
       "Index(['_unit_id', '_golden', '_unit_state', '_trusted_judgments',\n",
       "       '_last_judgment_at', 'positivity', 'positivity:confidence', 'relevance',\n",
       "       'relevance:confidence', 'articleid', 'date', 'headline',\n",
       "       'positivity_gold', 'relevance_gold', 'text'],\n",
       "      dtype='object')"
      ]
     },
     "execution_count": 9,
     "metadata": {},
     "output_type": "execute_result"
    }
   ],
   "source": [
    "df.columns"
   ]
  },
  {
   "cell_type": "code",
   "execution_count": 10,
   "metadata": {},
   "outputs": [
    {
     "data": {
      "text/plain": [
       "no          0.821375\n",
       "yes         0.177500\n",
       "not sure    0.001125\n",
       "Name: relevance, dtype: float64"
      ]
     },
     "execution_count": 10,
     "metadata": {},
     "output_type": "execute_result"
    }
   ],
   "source": [
    "df[\"relevance\"].value_counts()/df.shape[0] #Class distribution in the dataset"
   ]
  },
  {
   "cell_type": "code",
   "execution_count": 11,
   "metadata": {},
   "outputs": [],
   "source": [
    "# convert label to a numeric variable\n",
    "\n",
    "df = df[df.relevance != 'not sure']"
   ]
  },
  {
   "cell_type": "code",
   "execution_count": 12,
   "metadata": {},
   "outputs": [
    {
     "data": {
      "text/plain": [
       "(7991, 15)"
      ]
     },
     "execution_count": 12,
     "metadata": {},
     "output_type": "execute_result"
    }
   ],
   "source": [
    "df.shape"
   ]
  },
  {
   "cell_type": "code",
   "execution_count": 13,
   "metadata": {},
   "outputs": [],
   "source": [
    "df['relevance'] = df.relevance.map({'yes':1, 'no':0})\n",
    "\n",
    "df = df[[\"text\", \"relevance\"]]"
   ]
  },
  {
   "cell_type": "code",
   "execution_count": 14,
   "metadata": {},
   "outputs": [
    {
     "data": {
      "text/plain": [
       "(7991, 2)"
      ]
     },
     "execution_count": 14,
     "metadata": {},
     "output_type": "execute_result"
    }
   ],
   "source": [
    "df.shape"
   ]
  },
  {
   "cell_type": "code",
   "execution_count": 29,
   "metadata": {},
   "outputs": [],
   "source": [
    "def clean(doc): #doc is a string of text\n",
    "    doc = doc.replace(\"</br>\", \" \") #This text contains a lot of <br/> tags.\n",
    "    doc = \"\".join([char for char in doc if char not in string.punctuation and not char.isdigit()])\n",
    "    doc = \" \".join([token for token in doc.split() if token not in STOPWORDS])\n",
    "    #remove punctuation and numbers\n",
    "    return doc"
   ]
  },
  {
   "cell_type": "code",
   "execution_count": 15,
   "metadata": {},
   "outputs": [],
   "source": [
    "# Pre processing\n",
    "from sklearn.model_selection import train_test_split"
   ]
  },
  {
   "cell_type": "code",
   "execution_count": 16,
   "metadata": {},
   "outputs": [
    {
     "name": "stdout",
     "output_type": "stream",
     "text": [
      "(7991,) (7991,)\n"
     ]
    }
   ],
   "source": [
    "X = df.text\n",
    "y = df.relevance\n",
    "\n",
    "print(X.shape, y.shape)"
   ]
  },
  {
   "cell_type": "code",
   "execution_count": 17,
   "metadata": {},
   "outputs": [],
   "source": [
    "X_train, X_test, y_train, y_test = train_test_split(X, y, random_state=1)"
   ]
  },
  {
   "cell_type": "code",
   "execution_count": 18,
   "metadata": {},
   "outputs": [
    {
     "name": "stdout",
     "output_type": "stream",
     "text": [
      "(5993,) (5993,)\n",
      "(1998,) (1998,)\n"
     ]
    }
   ],
   "source": [
    "print(X_train.shape, y_train.shape)\n",
    "print(X_test.shape, y_test.shape)"
   ]
  },
  {
   "cell_type": "code",
   "execution_count": 30,
   "metadata": {},
   "outputs": [],
   "source": [
    "vec = CountVectorizer(preprocessor=clean)\n",
    "\n",
    "X_train_dt = vec.fit_transform(X_train)\n",
    "\n",
    "X_test_dt = vec.transform(X_test)"
   ]
  },
  {
   "cell_type": "code",
   "execution_count": 31,
   "metadata": {},
   "outputs": [
    {
     "name": "stdout",
     "output_type": "stream",
     "text": [
      "(5993, 49863) (1998, 49863)\n"
     ]
    }
   ],
   "source": [
    "print(X_train_dt.shape, X_test_dt.shape)"
   ]
  },
  {
   "cell_type": "code",
   "execution_count": 32,
   "metadata": {},
   "outputs": [],
   "source": [
    "nb = MultinomialNB()"
   ]
  },
  {
   "cell_type": "code",
   "execution_count": 35,
   "metadata": {},
   "outputs": [
    {
     "name": "stdout",
     "output_type": "stream",
     "text": [
      "Wall time: 66.3 ms\n"
     ]
    },
    {
     "data": {
      "text/plain": [
       "MultinomialNB()"
      ]
     },
     "execution_count": 35,
     "metadata": {},
     "output_type": "execute_result"
    }
   ],
   "source": [
    "%time nb.fit(X_train_dt, y_train)"
   ]
  },
  {
   "cell_type": "code",
   "execution_count": 36,
   "metadata": {},
   "outputs": [],
   "source": [
    "y_pred_class = nb.predict(X_test_dt)"
   ]
  },
  {
   "cell_type": "code",
   "execution_count": 39,
   "metadata": {},
   "outputs": [],
   "source": [
    "import itertools\n",
    "from sklearn.metrics import roc_auc_score\n",
    "import matplotlib as mpl \n",
    "import matplotlib.cm as cm "
   ]
  },
  {
   "cell_type": "code",
   "execution_count": 49,
   "metadata": {},
   "outputs": [],
   "source": [
    "def plot_confusion_matrix(cm, classes,\n",
    "                          normalize=False,\n",
    "                          title='Confusion matrix',\n",
    "                          cmap=plt.cm.Blues):\n",
    "    \"\"\"\n",
    "    This function prints and plots the confusion matrix.\n",
    "    Normalization can be applied by setting `normalize=True`.\n",
    "    \"\"\"\n",
    "    if normalize:\n",
    "        cm = cm.astype('float') / cm.sum(axis=1)[:, np.newaxis]\n",
    "\n",
    "    plt.imshow(cm, interpolation='nearest', cmap=cmap)\n",
    "    plt.title(title)\n",
    "    plt.colorbar()\n",
    "    tick_marks = np.arange(len(classes))\n",
    "    plt.xticks(tick_marks, classes, rotation=45)\n",
    "    plt.yticks(tick_marks, classes)\n",
    "\n",
    "    fmt = '.2f' if normalize else 'd'\n",
    "    thresh = cm.max() / 2.\n",
    "    for i, j in itertools.product(range(cm.shape[0]), range(cm.shape[1])):\n",
    "        plt.text(j, i, format(cm[i, j], fmt),\n",
    "                 horizontalalignment=\"center\",\n",
    "                 color=\"white\" if cm[i, j] > thresh else \"black\")\n",
    "\n",
    "    plt.tight_layout()\n",
    "    plt.ylabel('True label',fontsize=15)\n",
    "    plt.xlabel('Predicted label',fontsize=15)\n",
    "    "
   ]
  },
  {
   "cell_type": "code",
   "execution_count": 41,
   "metadata": {},
   "outputs": [
    {
     "name": "stdout",
     "output_type": "stream",
     "text": [
      "Accuracy:  0.7772772772772772\n"
     ]
    }
   ],
   "source": [
    "print(\"Accuracy: \", accuracy_score(y_test, y_pred_class))"
   ]
  },
  {
   "cell_type": "code",
   "execution_count": 50,
   "metadata": {},
   "outputs": [
    {
     "data": {
      "image/png": "[encoded data removed]",
      "text/plain": [
       "<Figure size 576x432 with 2 Axes>"
      ]
     },
     "metadata": {
      "needs_background": "light"
     },
     "output_type": "display_data"
    }
   ],
   "source": [
    "cnf_matrix = confusion_matrix(y_test, y_pred_class)\n",
    "plt.figure(figsize=(8,6))\n",
    "plot_confusion_matrix(cnf_matrix, classes=['Not Relevant','Relevant'],normalize=True,\n",
    "                      title='Confusion matrix with all features')"
   ]
  },
  {
   "cell_type": "code",
   "execution_count": 52,
   "metadata": {},
   "outputs": [
    {
     "name": "stdout",
     "output_type": "stream",
     "text": [
      "ROC_AOC_Score:  0.723586214933469\n"
     ]
    }
   ],
   "source": [
    "y_pred_prob = nb.predict_proba(X_test_dt)[:, 1]\n",
    "print(\"ROC_AOC_Score: \", roc_auc_score(y_test, y_pred_prob))"
   ]
  },
  {
   "cell_type": "code",
   "execution_count": 53,
   "metadata": {},
   "outputs": [
    {
     "name": "stdout",
     "output_type": "stream",
     "text": [
      "Wall time: 6.64 ms\n",
      "Accuracy:  0.6876876876876877\n"
     ]
    },
    {
     "data": {
      "image/png": "[encoded data removed]",
      "text/plain": [
       "<Figure size 576x432 with 2 Axes>"
      ]
     },
     "metadata": {
      "needs_background": "light"
     },
     "output_type": "display_data"
    }
   ],
   "source": [
    "vect = CountVectorizer(preprocessor=clean, max_features=5000) #Step-1\n",
    "X_train_dt = vect.fit_transform(X_train)#combined step 2 and 3\n",
    "X_test_dt = vect.transform(X_test)\n",
    "nb = MultinomialNB() #instantiate a Multinomial Naive Bayes model\n",
    "%time nb.fit(X_train_dt, y_train)#train the model(timing it with an IPython \"magic command\")\n",
    "y_pred_class = nb.predict(X_test_dt)#make class predictions for X_test_dtm\n",
    "print(\"Accuracy: \", metrics.accuracy_score(y_test, y_pred_class))\n",
    "# print the confusion matrix\n",
    "cnf_matrix = confusion_matrix(y_test, y_pred_class)\n",
    "plt.figure(figsize=(8,6))\n",
    "plot_confusion_matrix(cnf_matrix, classes=['Not Relevant','Relevant'],normalize=True,\n",
    "                      title='Confusion matrix with max 5000 features')"
   ]
  },
  {
   "cell_type": "code",
   "execution_count": 55,
   "metadata": {},
   "outputs": [],
   "source": [
    "# Logistic regression\n",
    "\n",
    "from sklearn.linear_model import LogisticRegression"
   ]
  },
  {
   "cell_type": "code",
   "execution_count": 56,
   "metadata": {},
   "outputs": [],
   "source": [
    "logreg = LogisticRegression(class_weight=\"balanced\")"
   ]
  },
  {
   "cell_type": "code",
   "execution_count": 57,
   "metadata": {},
   "outputs": [
    {
     "name": "stderr",
     "output_type": "stream",
     "text": [
      "e:\\nlp-tasks\\venv\\lib\\site-packages\\sklearn\\linear_model\\_logistic.py:763: ConvergenceWarning: lbfgs failed to converge (status=1):\n",
      "STOP: TOTAL NO. of ITERATIONS REACHED LIMIT.\n",
      "\n",
      "Increase the number of iterations (max_iter) or scale the data as shown in:\n",
      "    https://scikit-learn.org/stable/modules/preprocessing.html\n",
      "Please also refer to the documentation for alternative solver options:\n",
      "    https://scikit-learn.org/stable/modules/linear_model.html#logistic-regression\n",
      "  n_iter_i = _check_optimize_result(\n"
     ]
    },
    {
     "data": {
      "text/plain": [
       "LogisticRegression(class_weight='balanced')"
      ]
     },
     "execution_count": 57,
     "metadata": {},
     "output_type": "execute_result"
    }
   ],
   "source": [
    "logreg.fit(X_train_dt, y_train)"
   ]
  },
  {
   "cell_type": "code",
   "execution_count": 58,
   "metadata": {},
   "outputs": [],
   "source": [
    "#Make predictions on test data\n",
    "y_pred_class = logreg.predict(X_test_dt)"
   ]
  },
  {
   "cell_type": "code",
   "execution_count": 59,
   "metadata": {},
   "outputs": [
    {
     "name": "stdout",
     "output_type": "stream",
     "text": [
      "Accuracy:  0.7332332332332332\n",
      "AUC:  0.723586214933469\n"
     ]
    },
    {
     "data": {
      "image/png": "[encoded data removed]",
      "text/plain": [
       "<Figure size 576x432 with 2 Axes>"
      ]
     },
     "metadata": {
      "needs_background": "light"
     },
     "output_type": "display_data"
    }
   ],
   "source": [
    "print(\"Accuracy: \", accuracy_score(y_test, y_pred_class))\n",
    "print(\"AUC: \", roc_auc_score(y_test, y_pred_prob))\n",
    "cnf_matrix = confusion_matrix(y_test, y_pred_class)\n",
    "plt.figure(figsize=(8,6))\n",
    "plot_confusion_matrix(cnf_matrix, classes=['Not Relevant','Relevant'],normalize=True,\n",
    "                      title='Confusion matrix with normalization')"
   ]
  },
  {
   "cell_type": "code",
   "execution_count": 60,
   "metadata": {},
   "outputs": [],
   "source": [
    "from sklearn.svm import LinearSVC"
   ]
  },
  {
   "cell_type": "code",
   "execution_count": 61,
   "metadata": {},
   "outputs": [
    {
     "name": "stderr",
     "output_type": "stream",
     "text": [
      "e:\\nlp-tasks\\venv\\lib\\site-packages\\sklearn\\svm\\_base.py:985: ConvergenceWarning: Liblinear failed to converge, increase the number of iterations.\n",
      "  warnings.warn(\"Liblinear failed to converge, increase \"\n"
     ]
    },
    {
     "name": "stdout",
     "output_type": "stream",
     "text": [
      "Accuracy:  0.6981981981981982\n",
      "AUC:  0.723586214933469\n"
     ]
    },
    {
     "data": {
      "image/png": "[encoded data removed]",
      "text/plain": [
       "<Figure size 576x432 with 2 Axes>"
      ]
     },
     "metadata": {
      "needs_background": "light"
     },
     "output_type": "display_data"
    }
   ],
   "source": [
    "vect = CountVectorizer(preprocessor=clean, max_features=1000) #Step-1\n",
    "X_train_dt = vect.fit_transform(X_train)#combined step 2 and 3\n",
    "X_test_dt = vect.transform(X_test)\n",
    "\n",
    "classifier = LinearSVC(class_weight='balanced') #instantiate a logistic regression model\n",
    "classifier.fit(X_train_dt, y_train) #fit the model with training data\n",
    "\n",
    "#Make predictions on test data\n",
    "y_pred_class = classifier.predict(X_test_dt)\n",
    "\n",
    "#calculate evaluation measures:\n",
    "print(\"Accuracy: \", accuracy_score(y_test, y_pred_class))\n",
    "print(\"AUC: \", roc_auc_score(y_test, y_pred_prob))\n",
    "cnf_matrix = confusion_matrix(y_test, y_pred_class)\n",
    "plt.figure(figsize=(8,6))\n",
    "plot_confusion_matrix(cnf_matrix, classes=['Not Relevant','Relevant'],normalize=True,\n",
    "                      title='Confusion matrix with normalization')"
   ]
  },
  {
   "cell_type": "markdown",
   "metadata": {},
   "source": [
    "### Potential reason for poor classification\n",
    "    * We extracted al possible features, we end up in a large, sparse feature vector, where most features are too rare and end up being noise. sparse feature set also makes training hard\n",
    "    * There are very few example of some articles and more in some other. the clsss imbalance makes the learning process skewed towards higher data category.\n",
    "    * Need better learning algorithm.\n",
    "    * Better pre-processing and feature extraction mechanisam\n",
    "    * Tuning classifier parameters and hyper parameters."
   ]
  },
  {
   "cell_type": "markdown",
   "metadata": {},
   "source": [
    "### Word2Vec for Text Classification\n",
    "    In recent years neural network based learning of word representation became popular which know as \"word embedding\". we can use eiter pre defined word embeddings or the custom embedding for the specific domain."
   ]
  },
  {
   "cell_type": "code",
   "execution_count": 62,
   "metadata": {},
   "outputs": [],
   "source": [
    "#basic imports\n",
    "import os\n",
    "from time import time\n",
    "\n",
    "#pre-processing imports\n",
    "from nltk.tokenize import word_tokenize\n",
    "from nltk.corpus import stopwords\n",
    "from string import punctuation\n",
    "\n",
    "#imports related to modeling\n",
    "import numpy as np\n",
    "from gensim.models import Word2Vec, KeyedVectors\n",
    "from sklearn.linear_model import LogisticRegression\n",
    "from sklearn.model_selection import train_test_split\n",
    "from sklearn.metrics import classification_report"
   ]
  },
  {
   "cell_type": "code",
   "execution_count": 63,
   "metadata": {},
   "outputs": [],
   "source": [
    "model_path = '../data/GoogleNews-vectors-negative300.bin.gz'"
   ]
  },
  {
   "cell_type": "code",
   "execution_count": 64,
   "metadata": {},
   "outputs": [],
   "source": [
    "import glob\n",
    "\n",
    "read_files = glob.glob(\"../data/sentiment labelled sentences/*.txt\")\n",
    "\n",
    "with open(\"result.txt\", \"wb\") as outfile:\n",
    "    for f in read_files:\n",
    "        with open(f, \"rb\") as infile:\n",
    "            outfile.write(infile.read())"
   ]
  },
  {
   "cell_type": "code",
   "execution_count": 71,
   "metadata": {},
   "outputs": [],
   "source": [
    "data_path = '../data/sentiment_sentences.txt'"
   ]
  },
  {
   "cell_type": "code",
   "execution_count": 66,
   "metadata": {},
   "outputs": [
    {
     "name": "stdout",
     "output_type": "stream",
     "text": [
      "Wall time: 1min 34s\n"
     ]
    }
   ],
   "source": [
    "%time w2v_model = KeyedVectors.load_word2vec_format(model_path, binary=True)"
   ]
  },
  {
   "cell_type": "code",
   "execution_count": 67,
   "metadata": {},
   "outputs": [],
   "source": [
    "texts = []\n",
    "cats = []"
   ]
  },
  {
   "cell_type": "code",
   "execution_count": 72,
   "metadata": {},
   "outputs": [],
   "source": [
    "fh = open(data_path)\n",
    "for line in fh:\n",
    "    text, sentiment = line.split(\"\\t\")\n",
    "    texts.append(text)\n",
    "    cats.append(sentiment)"
   ]
  },
  {
   "cell_type": "code",
   "execution_count": 73,
   "metadata": {},
   "outputs": [
    {
     "name": "stdout",
     "output_type": "stream",
     "text": [
      "3000000\n"
     ]
    }
   ],
   "source": [
    "# Inspect the model\n",
    "word2vec_vocab = w2v_model.vocab.keys()\n",
    "word2vec_vocab_lower = [item.lower() for item in word2vec_vocab]\n",
    "print(len(word2vec_vocab))"
   ]
  },
  {
   "cell_type": "code",
   "execution_count": 74,
   "metadata": {},
   "outputs": [
    {
     "name": "stdout",
     "output_type": "stream",
     "text": [
      "5000 5000\n",
      "Good case, Excellent value.\n",
      "1\n",
      "\n"
     ]
    }
   ],
   "source": [
    "#Inspect the dataset\n",
    "print(len(cats), len(texts))\n",
    "print(texts[1])\n",
    "print(cats[1])"
   ]
  },
  {
   "cell_type": "code",
   "execution_count": 75,
   "metadata": {},
   "outputs": [
    {
     "name": "stdout",
     "output_type": "stream",
     "text": [
      "5000 5000\n",
      "['good', 'case', 'excellent', 'value']\n",
      "1\n",
      "\n"
     ]
    }
   ],
   "source": [
    "#preprocess the text.\n",
    "def preprocess_corpus(texts):\n",
    "    mystopwords = set(stopwords.words(\"english\"))\n",
    "    def remove_stops_digits(tokens):\n",
    "        #Nested function that lowercases, removes stopwords and digits from a list of tokens\n",
    "        return [token.lower() for token in tokens if token not in mystopwords and not token.isdigit()\n",
    "               and token not in punctuation]\n",
    "    #This return statement below uses the above function to process twitter tokenizer output further. \n",
    "    return [remove_stops_digits(word_tokenize(text)) for text in texts]\n",
    "\n",
    "texts_processed = preprocess_corpus(texts)\n",
    "print(len(cats), len(texts_processed))\n",
    "print(texts_processed[1])\n",
    "print(cats[1])"
   ]
  },
  {
   "cell_type": "code",
   "execution_count": 76,
   "metadata": {},
   "outputs": [
    {
     "name": "stderr",
     "output_type": "stream",
     "text": [
      "<ipython-input-76-536a16e998b9>:13: RuntimeWarning: invalid value encountered in true_divide\n",
      "  feats.append(feat_for_this/count_for_this)\n"
     ]
    },
    {
     "name": "stdout",
     "output_type": "stream",
     "text": [
      "5000\n"
     ]
    }
   ],
   "source": [
    "# Creating a feature vector by averaging all embeddings for all sentences\n",
    "def embedding_feats(list_of_lists):\n",
    "    DIMENSION = 300\n",
    "    zero_vector = np.zeros(DIMENSION)\n",
    "    feats = []\n",
    "    for tokens in list_of_lists:\n",
    "        feat_for_this =  np.zeros(DIMENSION)\n",
    "        count_for_this = 0\n",
    "        for token in tokens:\n",
    "            if token in w2v_model:\n",
    "                feat_for_this += w2v_model[token]\n",
    "                count_for_this +=1\n",
    "        feats.append(feat_for_this/count_for_this)        \n",
    "    return feats\n",
    "\n",
    "\n",
    "train_vectors = embedding_feats(texts_processed)\n",
    "print(len(train_vectors))"
   ]
  },
  {
   "cell_type": "code",
   "execution_count": 78,
   "metadata": {},
   "outputs": [
    {
     "data": {
      "text/plain": [
       "array([-0.02180481, -0.02346802, -0.01232338,  0.07751465, -0.0881958 ,\n",
       "        0.07093048, -0.01003265, -0.07572937,  0.08233643,  0.05797219,\n",
       "       -0.07333374, -0.118927  , -0.12268829, -0.08712769, -0.13682556,\n",
       "        0.06211853,  0.13510132,  0.08915329,  0.03269958, -0.0518837 ,\n",
       "        0.05072021,  0.11506653,  0.08770752,  0.0460968 ,  0.11599731,\n",
       "        0.074646  , -0.05322266,  0.00317383,  0.0389595 , -0.00096321,\n",
       "       -0.03198242,  0.09008789, -0.0819397 , -0.03693771, -0.04135132,\n",
       "       -0.02497101,  0.02585769, -0.04069519,  0.02770996,  0.07479858,\n",
       "        0.07942963, -0.01748085,  0.16943741, -0.00860596,  0.01129532,\n",
       "        0.00712585, -0.04824829, -0.09115255, -0.05767822,  0.        ,\n",
       "       -0.00839233,  0.04573059,  0.0927887 , -0.04602051,  0.02788544,\n",
       "       -0.00643921, -0.06173325, -0.0149498 ,  0.08590698,  0.00770569,\n",
       "       -0.00668335, -0.00933075, -0.10662842, -0.03262329, -0.04525375,\n",
       "       -0.10090637, -0.10495758,  0.14862061, -0.03874588,  0.02476501,\n",
       "        0.08579254,  0.01947594, -0.00506592, -0.06387329, -0.07460022,\n",
       "       -0.13137817,  0.03051758,  0.1275177 ,  0.0480957 , -0.01837158,\n",
       "        0.0597496 ,  0.051651  ,  0.08288574,  0.00648689,  0.02023315,\n",
       "        0.03769684,  0.02357483,  0.10169983, -0.01138306, -0.02203369,\n",
       "        0.02877617,  0.084198  , -0.0634613 , -0.07590485, -0.01573944,\n",
       "       -0.10791016, -0.01622009,  0.03236389,  0.10734558, -0.00956154,\n",
       "       -0.11102295,  0.00386047,  0.03813171,  0.01531982, -0.08714294,\n",
       "       -0.02099609, -0.04626465, -0.00949097,  0.07646179, -0.07794571,\n",
       "       -0.05480957, -0.1000824 , -0.06598663,  0.00591981,  0.12844849,\n",
       "        0.06016541, -0.02307892, -0.07601929,  0.05163574,  0.04946899,\n",
       "       -0.03325653, -0.02513123, -0.07955742,  0.12329102,  0.03141022,\n",
       "       -0.0254364 , -0.16348267,  0.01873779,  0.01870728, -0.01617432,\n",
       "       -0.02975464, -0.06558228, -0.05104065,  0.05731201,  0.01331711,\n",
       "       -0.04083252, -0.03631592,  0.00561523,  0.00196838,  0.13426971,\n",
       "        0.1036377 , -0.15869141,  0.04060364,  0.03830719,  0.0743866 ,\n",
       "        0.01456833, -0.06712341, -0.0931015 , -0.0789032 , -0.00650024,\n",
       "        0.09242249, -0.0711441 , -0.01121521, -0.009552  , -0.03297424,\n",
       "       -0.10467529, -0.01257706,  0.01073456, -0.13990021,  0.09379768,\n",
       "        0.00375175,  0.18484497, -0.0182724 ,  0.06613159,  0.05819702,\n",
       "       -0.20993042,  0.06323051, -0.03142548, -0.01736641, -0.07663727,\n",
       "       -0.12845945, -0.00136948, -0.00957489, -0.01141179, -0.05395317,\n",
       "        0.06201172,  0.10250378, -0.18942261,  0.01407766,  0.03878784,\n",
       "       -0.04504395, -0.05213928,  0.00730848,  0.12496948,  0.05429077,\n",
       "       -0.06983948, -0.05529785,  0.06271362,  0.08078003,  0.06997681,\n",
       "       -0.00386047,  0.05622864,  0.02559566,  0.02888489,  0.00611115,\n",
       "       -0.01957321, -0.08282852,  0.01303864, -0.09651375, -0.18136597,\n",
       "       -0.02601624,  0.0824585 , -0.03214264,  0.06181622,  0.03048706,\n",
       "       -0.02297974, -0.02255249, -0.09292793,  0.03515625,  0.00365448,\n",
       "       -0.03627014,  0.15246582, -0.15235901,  0.09001541, -0.16109848,\n",
       "        0.07421875,  0.23887634,  0.00559998, -0.11532974,  0.00074577,\n",
       "       -0.10578156, -0.03860474, -0.00741577,  0.01866913, -0.05563354,\n",
       "       -0.02478027,  0.04724884,  0.01817226,  0.03984737, -0.10915828,\n",
       "       -0.047966  ,  0.0133667 ,  0.00914001, -0.02807426,  0.02298737,\n",
       "        0.02027893, -0.03668213,  0.00314331,  0.16345215,  0.04185104,\n",
       "        0.01066589,  0.05099487, -0.00405884, -0.1048584 , -0.07878304,\n",
       "       -0.01689529, -0.06572723,  0.10844421,  0.02716352, -0.06861877,\n",
       "        0.12313843,  0.08610916,  0.0002594 ,  0.00689316,  0.06550598,\n",
       "       -0.07419014,  0.05541229, -0.0349102 , -0.03786469, -0.10458374,\n",
       "       -0.00079346,  0.00942993, -0.11883545,  0.05508423, -0.01272774,\n",
       "        0.1034584 ,  0.0269165 , -0.07681274, -0.06298828, -0.02630615,\n",
       "        0.02451324,  0.04183197,  0.06526184,  0.10810089,  0.06466675,\n",
       "       -0.11734009, -0.06062317, -0.18850708, -0.07133484, -0.02170491,\n",
       "       -0.0555954 , -0.0435524 ,  0.0247345 ,  0.10272217,  0.0529232 ,\n",
       "       -0.02277374, -0.00527954, -0.16397095,  0.05911255,  0.06581116,\n",
       "       -0.0027771 ,  0.20078278, -0.15924072,  0.05615234, -0.04444885,\n",
       "        0.06616211, -0.08196259, -0.02713776, -0.0202179 , -0.01262188])"
      ]
     },
     "execution_count": 78,
     "metadata": {},
     "output_type": "execute_result"
    }
   ],
   "source": [
    "train_vectors[0]"
   ]
  },
  {
   "cell_type": "code",
   "execution_count": 79,
   "metadata": {},
   "outputs": [
    {
     "data": {
      "text/plain": [
       "'1\\n'"
      ]
     },
     "execution_count": 79,
     "metadata": {},
     "output_type": "execute_result"
    }
   ],
   "source": [
    "cats[1]"
   ]
  },
  {
   "cell_type": "code",
   "execution_count": null,
   "metadata": {},
   "outputs": [],
   "source": [
    "#Take any classifier (LogisticRegression here, and train/test it like before.\n",
    "classifier = LogisticRegression(random_state=1234)\n",
    "train_data, test_data, train_cats, test_cats = train_test_split(train_vectors, cats)\n",
    "classifier.fit(train_data, train_cats)\n",
    "print(\"Accuracy: \", classifier.score(test_data, test_cats))\n",
    "preds = classifier.predict(test_data)\n",
    "print(classification_report(test_cats, preds))"
   ]
  },
  {
   "cell_type": "markdown",
   "metadata": {},
   "source": [
    "### Sub word embedding and FastText\n",
    "    One main problem with word embeddings as well other techinque is handling out of vocabulary problem. usually we ignore the such word from feature extraction.\n",
    "    \n",
    "    FastText embeddings based on the idea of enriching word embedding  with subword level information. Embedding represent for eah word is represented as a sum of the representations of individual character n-grams. \n",
    "    \n",
    "    * This can handle words that did not appear in training data.\n",
    "    * The implementation extreamly fast even in larger corpora.\n",
    "    \n",
    "    Even though it's general-purpose library it having off the self text classification tp providing end-to-end classifier traning and texting. including feature extraction. \n",
    "    \n",
    "    FastText is suitable to set strong baseline model. One concern in fastText is it's uses pre-trained character n-grams embeddings. so when we save the model it will save the eniter n-gram embedding this will increase the model size."
   ]
  },
  {
   "cell_type": "code",
   "execution_count": null,
   "metadata": {},
   "outputs": [],
   "source": [
    "## Using fastText for feature extraction and training\n",
    "from fasttext import train_supervised \n",
    "\"\"\"fastText expects and training file (csv), a model name as input arguments.\n",
    "label_prefix refers to the prefix before label string in the dataset.\n",
    "default is __label__. In our dataset, it is __class__. \n",
    "There are several other parameters which can be seen in: \n",
    "https://pypi.org/project/fasttext/\n",
    "\"\"\"\n",
    "model = train_supervised(input='train.csv',\n",
    "                         label=\"__label_id__\",\n",
    "                         lr=1.0, epoch=75,\n",
    "                         loss='ova', wordNgrams=2,\n",
    "                         dim=200, thread=2, verbose=100)"
   ]
  },
  {
   "cell_type": "code",
   "execution_count": null,
   "metadata": {},
   "outputs": [],
   "source": [
    "for k in range(1,6):\n",
    "    results = model.test('test.csv',k=k)\n",
    "    print(f\"Test Samples: {results[0]} Precision@{k} : {results[1]*100:2.4f} Recall@{k} : {results[2]*100:2.4f}\")"
   ]
  },
  {
   "cell_type": "markdown",
   "metadata": {},
   "source": [
    "### Document Embedding\n",
    "    In Doc2Vec scheme we can learn a direct representation for the entire document. rather than each word."
   ]
  },
  {
   "cell_type": "code",
   "execution_count": null,
   "metadata": {},
   "outputs": [],
   "source": [
    "import pandas as pd\n",
    "import nltk\n",
    "nltk.download('stopwords')\n",
    "from nltk.tokenize import TweetTokenizer\n",
    "from nltk.corpus import stopwords\n",
    "from sklearn.model_selection import train_test_split\n",
    "from gensim.models.doc2vec import Doc2Vec, TaggedDocument"
   ]
  },
  {
   "cell_type": "code",
   "execution_count": null,
   "metadata": {},
   "outputs": [],
   "source": [
    "X = sample['text_processed']\n",
    "y = sample['label_id']"
   ]
  },
  {
   "cell_type": "code",
   "execution_count": null,
   "metadata": {},
   "outputs": [],
   "source": [
    "X_train, X_test, y_train, y_test = train_test_split(X, y, random_state=1234)"
   ]
  },
  {
   "cell_type": "code",
   "execution_count": null,
   "metadata": {},
   "outputs": [],
   "source": [
    "#prepare training data in doc2vec format:\n",
    "train_doc2vec = [TaggedDocument((d), tags=[str(i)]) for i, d in enumerate(X_train)]"
   ]
  },
  {
   "cell_type": "code",
   "execution_count": null,
   "metadata": {},
   "outputs": [],
   "source": [
    "#Train a doc2vec model to learn\n",
    "model = Doc2Vec(vector_size=50, alpha=0.025, min_count=5, dm =1, epochs=100)\n",
    "model.build_vocab(train_doc2vec)\n",
    "model.train(train_doc2vec, total_examples=model.corpus_count, epochs=model.epochs)\n",
    "model.save(\"d2v.model\")\n",
    "print(\"Model Saved\")"
   ]
  },
  {
   "cell_type": "code",
   "execution_count": null,
   "metadata": {},
   "outputs": [],
   "source": [
    "#Infer the feature representation for training and test data using the trained model\n",
    "model= Doc2Vec.load(\"d2v.model\")"
   ]
  },
  {
   "cell_type": "code",
   "execution_count": null,
   "metadata": {},
   "outputs": [],
   "source": [
    "#infer in multiple steps to get a stable representation. \n",
    "train_vectors =  [model.infer_vector(list_of_tokens, steps=50) for list_of_tokens in X_train]\n",
    "test_vectors = [model.infer_vector(list_of_tokens, steps=50) for list_of_tokens in X_test]"
   ]
  },
  {
   "cell_type": "code",
   "execution_count": null,
   "metadata": {},
   "outputs": [],
   "source": [
    "clf = LogisticRegression(class_weight=\"balanced\") #because classes are not balanced. \n",
    "clf.fit(train_vectors, y_train)"
   ]
  },
  {
   "cell_type": "code",
   "execution_count": null,
   "metadata": {},
   "outputs": [],
   "source": [
    "preds = clf.predict(test_vectors)\n",
    "print(classification_report(y_test, preds))\n",
    "print(confusion_matrix(y_test,preds))"
   ]
  },
  {
   "cell_type": "markdown",
   "metadata": {},
   "source": [
    "## Deep learning\n",
    "    Two of the most commonly used neural network architecture for text classification are CNN & RNN. LSTM is popular form of RNN. Recent approcahes involving pre-trained model. transfer learning.\n",
    "    \n",
    "    Steps involved in converting traning and test data into suitable format for neural network.\n",
    "    \n",
    "    * Tokenize the text and convert into word index vectors\n",
    "    * Pad the text sequence so that all text vectors are on the same length\n",
    "    * Map every word index to an embedding vector. we do that by multiplying word index vectors with the embedding matrix. embeding matrix can be pre-trained or trained on the specfic corpous\n",
    "    * Above step outpput goes as a input of a NN architecture layer."
   ]
  },
  {
   "cell_type": "code",
   "execution_count": null,
   "metadata": {},
   "outputs": [],
   "source": [
    "#Necessary imports\n",
    "import os\n",
    "import sys\n",
    "import numpy as np\n",
    "from keras.preprocessing.text import Tokenizer\n",
    "from keras.preprocessing.sequence import pad_sequences\n",
    "from keras.utils import to_categorical\n",
    "from keras.layers import Dense, Input, GlobalMaxPooling1D\n",
    "from keras.layers import Conv1D, MaxPooling1D, Embedding, LSTM\n",
    "from keras.models import Model, Sequential\n",
    "from keras.initializers import Constant"
   ]
  },
  {
   "cell_type": "code",
   "execution_count": null,
   "metadata": {},
   "outputs": [],
   "source": [
    "# Set path variable for glove encodeing and data set\n",
    "# https://nlp.stanford.edu/projects/glove/\n",
    "# https://ai.stanford.edu/~amaas/data/sentiment/\n",
    "\n",
    "base_dir = \"../data\"\n",
    "glove_dir = os.path.join(base_dir, 'glove.6B')\n",
    "train_dir = os.path.join(base_dir, '/train')\n",
    "test_dir = os.path.join(base_dir, '/test')\n",
    "\n",
    "max_seq_length = 1000\n",
    "max_num_words = 20000\n",
    "embedding_dim = 100\n",
    "validation_split = 0.2\n",
    "\n",
    "#started off from: https://github.com/keras-team/keras/blob/master/examples/pretrained_word_embeddings.py\n",
    "#and from: https://github.com/keras-team/keras/blob/master/examples/imdb_lstm.py"
   ]
  },
  {
   "cell_type": "code",
   "execution_count": null,
   "metadata": {},
   "outputs": [],
   "source": [
    "# Loadin and Preprocessing this changes according to the requirement\n",
    "def get_data(data_dir):\n",
    "    try:\n",
    "        texts = [] # List of samples\n",
    "        lable_index = {'pos':1, 'neg': 0}\n",
    "        labels = []\n",
    "        for name in sorted(os.listdir(data_dir)): # Loop through each file in the directory\n",
    "            path = os.path.join(data_dir, name) # Create path based on file name\n",
    "            if os.path.isdir(path): # If specific path exists in the directory\n",
    "                label_id = labels_index[name]\n",
    "                for fname in sorted(os.listdir(path)):\n",
    "                    fpath = os.path(join(path, fname))\n",
    "                    text = open(fpath).read()\n",
    "                    texts.append(text)\n",
    "                    labels.append(label_id)\n",
    "        return texts, labels\n",
    "    except:\n",
    "        return 'failed' \n",
    "    \n",
    "\n",
    "train_texts, train_labels = get_data(train_dir)\n",
    "test_texts, test_labels = get_data(test_dir)\n",
    "label_index = {'pos': 1, 'neg': 0}"
   ]
  },
  {
   "cell_type": "code",
   "execution_count": null,
   "metadata": {},
   "outputs": [],
   "source": [
    "# Vectorize these  samples into a 2D integer tensor using Keras Tokenizer\n",
    "# Tokenizer is fit on training data only, and that is used to tokenize both train and test data.\n",
    "\n",
    "tokenizer = Tokenizer(num_words = max_num_words)\n",
    "tokenizer.fit_on_texts(X_train)\n",
    "\n",
    "# Converting text to a vector of word indexs\n",
    "train_sequences = tokenizer.text_to_sequences(train_texts)\n",
    "test_sequences = tokenizer.text_to_sequences(test_texts)\n",
    "\n",
    "word_index = tokenizer.word_index\n",
    "\n",
    "print('Len of Unique tokens:' len(word_index))"
   ]
  },
  {
   "cell_type": "code",
   "execution_count": null,
   "metadata": {},
   "outputs": [],
   "source": [
    "# converting the sequence to fed into NN. Max sequence lenght defined previously\n",
    "train_valid_data = pad_sequences(train_sequences, maxlen=max_seq_length)\n",
    "test_data = pad_sequences(test_sequences, maxlen=max_seq_length)\n",
    "\n",
    "train_valid_labels = to_categorical(np.asarray(train_labels))\n",
    "test_labels = to_categorical(np.asarray(test_labels))\n",
    "\n",
    "# Split training data into trainig set and validataion set\n",
    "indices = np.arrange(train_valid_data.shape[0])\n",
    "np.random.shuffle(indices)\n",
    "\n",
    "train_valid_data = train_valid_data[indices]\n",
    "train_valid_labels = train_valid_labels[indices]\n",
    "\n",
    "num_validation_samples = int(validation_split * train_valid_data.shape[0])\n",
    "\n",
    "X_train = train_valid_data[:num_validation_samples]\n",
    "y_train = train_valid_data[:num_validation_samples]\n",
    "\n",
    "x_val = train_valid_data[-num_validation_samples:]\n",
    "y_val = train_valid_data[-num_validation_samples:]"
   ]
  },
  {
   "cell_type": "code",
   "execution_count": null,
   "metadata": {},
   "outputs": [],
   "source": [
    "# Building index mapping words in embedding set to their embedding vector\n",
    "\n",
    "embedding_index = {}\n",
    "\n",
    "with open(os.path.join(GLOVE_DIR, 'glove.6B.100d.txt')) as f:\n",
    "    for line in f:\n",
    "        values = line.split()\n",
    "        word = values[0]\n",
    "        coefs = np.asarray(values[1:], dtype='float32')\n",
    "        embeddings_index[word] = coefs\n",
    "\n",
    "print('Found %s word vectors in Glove embeddings.' % len(embeddings_index))\n",
    "#print(embeddings_index[\"google\"])\n",
    "\n",
    "# prepare embedding matrix - rows are the words from word_index, columns are the embeddings of that word from glove.\n",
    "num_words = min(MAX_NUM_WORDS, len(word_index)) + 1\n",
    "embedding_matrix = np.zeros((num_words, EMBEDDING_DIM))\n",
    "for word, i in word_index.items():\n",
    "    if i > MAX_NUM_WORDS:\n",
    "        continue\n",
    "    embedding_vector = embeddings_index.get(word)\n",
    "    if embedding_vector is not None:\n",
    "        # words not found in embedding index will be all-zeros.\n",
    "        embedding_matrix[i] = embedding_vector\n",
    "\n",
    "# load these pre-trained word embeddings into an Embedding layer\n",
    "# note that we set trainable = False so as to keep the embeddings fixed\n",
    "embedding_layer = Embedding(num_words,\n",
    "                            EMBEDDING_DIM,\n",
    "                            embeddings_initializer=Constant(embedding_matrix),\n",
    "                            input_length=MAX_SEQUENCE_LENGTH,\n",
    "                            trainable=False)\n",
    "print(\"Preparing of embedding matrix is done\")"
   ]
  },
  {
   "cell_type": "code",
   "execution_count": null,
   "metadata": {},
   "outputs": [],
   "source": [
    "# 1D CNN Model with pre-trained embedding\n",
    "print('Define a 1D CNN model.')\n",
    "\n",
    "cnnmodel = Sequential()\n",
    "cnnmodel.add(embedding_layer)\n",
    "cnnmodel.add(Conv1D(128, 5, activation='relu'))\n",
    "cnnmodel.add(MaxPooling1D(5))\n",
    "cnnmodel.add(Conv1D(128, 5, activation='relu'))\n",
    "cnnmodel.add(MaxPooling1D(5))\n",
    "cnnmodel.add(Conv1D(128, 5, activation='relu'))\n",
    "cnnmodel.add(GlobalMaxPooling1D())\n",
    "cnnmodel.add(Dense(128, activation='relu'))\n",
    "cnnmodel.add(Dense(len(labels_index), activation='softmax'))\n",
    "\n",
    "cnnmodel.compile(loss='categorical_crossentropy',\n",
    "              optimizer='rmsprop',\n",
    "              metrics=['acc'])\n",
    "#Train the model. Tune to validation set. \n",
    "cnnmodel.fit(x_train, y_train,\n",
    "          batch_size=128,\n",
    "          epochs=1, validation_data=(x_val, y_val))\n",
    "#Evaluate on test set:\n",
    "score, acc = cnnmodel.evaluate(test_data, test_labels)\n",
    "print('Test accuracy with CNN:', acc)"
   ]
  },
  {
   "cell_type": "code",
   "execution_count": null,
   "metadata": {},
   "outputs": [],
   "source": [
    "# 1D CNN model with training your own embedding\n",
    "print(\"Defining and training a CNN model, training embedding layer on the fly instead of using pre-trained embeddings\")\n",
    "cnnmodel = Sequential()\n",
    "cnnmodel.add(Embedding(MAX_NUM_WORDS, 128))\n",
    "cnnmodel.add(Conv1D(128, 5, activation='relu'))\n",
    "cnnmodel.add(MaxPooling1D(5))\n",
    "cnnmodel.add(Conv1D(128, 5, activation='relu'))\n",
    "cnnmodel.add(MaxPooling1D(5))\n",
    "cnnmodel.add(Conv1D(128, 5, activation='relu'))\n",
    "cnnmodel.add(GlobalMaxPooling1D())\n",
    "cnnmodel.add(Dense(128, activation='relu'))\n",
    "cnnmodel.add(Dense(len(labels_index), activation='softmax'))\n",
    "\n",
    "cnnmodel.compile(loss='categorical_crossentropy',\n",
    "              optimizer='rmsprop',\n",
    "              metrics=['acc'])\n",
    "#Train the model. Tune to validation set. \n",
    "cnnmodel.fit(x_train, y_train,\n",
    "          batch_size=128,\n",
    "          epochs=1, validation_data=(x_val, y_val))\n",
    "#Evaluate on test set:\n",
    "score, acc = cnnmodel.evaluate(test_data, test_labels)\n",
    "print('Test accuracy with CNN:', acc)"
   ]
  },
  {
   "cell_type": "code",
   "execution_count": null,
   "metadata": {},
   "outputs": [],
   "source": [
    "# LSTM Model with training your own embedding\n",
    "print(\"Defining and training an LSTM model, training embedding layer on the fly\")\n",
    "\n",
    "#model\n",
    "rnnmodel = Sequential()\n",
    "rnnmodel.add(Embedding(MAX_NUM_WORDS, 128))\n",
    "rnnmodel.add(LSTM(128, dropout=0.2, recurrent_dropout=0.2))\n",
    "rnnmodel.add(Dense(2, activation='sigmoid'))\n",
    "rnnmodel.compile(loss='binary_crossentropy',\n",
    "              optimizer='adam',\n",
    "              metrics=['accuracy'])\n",
    "print('Training the RNN')\n",
    "\n",
    "rnnmodel.fit(x_train, y_train,\n",
    "          batch_size=32,\n",
    "          epochs=1,\n",
    "          validation_data=(x_val, y_val))\n",
    "score, acc = rnnmodel.evaluate(test_data, test_labels,\n",
    "                            batch_size=32)"
   ]
  },
  {
   "cell_type": "code",
   "execution_count": null,
   "metadata": {},
   "outputs": [],
   "source": [
    "# LSTM Model using pre-trained Embedding Layer\n",
    "\n",
    "\n",
    "print(\"Defining and training an LSTM model, using pre-trained embedding layer\")\n",
    "\n",
    "rnnmodel2 = Sequential()\n",
    "rnnmodel2.add(embedding_layer)\n",
    "rnnmodel2.add(LSTM(128, dropout=0.2, recurrent_dropout=0.2))\n",
    "rnnmodel2.add(Dense(2, activation='sigmoid'))\n",
    "rnnmodel2.compile(loss='binary_crossentropy',\n",
    "              optimizer='adam',\n",
    "              metrics=['accuracy'])\n",
    "print('Training the RNN')\n",
    "\n",
    "rnnmodel2.fit(x_train, y_train,\n",
    "          batch_size=32,\n",
    "          epochs=1,\n",
    "          validation_data=(x_val, y_val))\n",
    "score, acc = rnnmodel2.evaluate(test_data, test_labels,\n",
    "                            batch_size=32)\n",
    "print('Test accuracy with RNN:', acc)"
   ]
  },
  {
   "cell_type": "markdown",
   "metadata": {},
   "source": [
    "LSTM will take longer to run compare to CNN model, Even though LSTM are more powerful in utilizing the sequential nature of text, they're much more data hungry as compared to CNN. The relative lower performance of the LSTM on a dataset need not neccessarily be interpreted as a shortcoming of the model itself. "
   ]
  },
  {
   "cell_type": "markdown",
   "metadata": {},
   "source": [
    "### Classification with large pre-trained models\n",
    "\n",
    "In recent years, there are lot's of improvements in the NN based text-reperesentation. this representation succesfully used in NN models and many of classification tasks. One of such model is called BERT.\n"
   ]
  },
  {
   "cell_type": "markdown",
   "metadata": {},
   "source": [
    "DL-based text classifiers are often nothing but\n",
    "condensed representations of the data they were\n",
    "trained on. These models are often as good as the\n",
    "training dataset. Selecting the right dataset becomes\n",
    "all the more important in such cases."
   ]
  },
  {
   "cell_type": "markdown",
   "metadata": {},
   "source": [
    "in most industrial settings, it always makes sense to start with a simpler,\n",
    "easy-to-deploy approach as your MVP and go from there\n",
    "incrementally, taking customer needs and feasibility into account."
   ]
  },
  {
   "cell_type": "code",
   "execution_count": null,
   "metadata": {},
   "outputs": [],
   "source": [
    "#importing a few necessary packages and setting the DATA directory\n",
    "DATA_DIR=\".\"\n",
    "import os\n",
    "import numpy as np\n",
    "import pickle\n",
    "import tensorflow as tf\n",
    "import warnings\n",
    "warnings.filterwarnings(\"ignore\") \n",
    "\n",
    "# install BERT\n",
    "!pip install pytorch_pretrained_bert pytorch-nlp\n",
    "\n",
    "# BERT imports\n",
    "import torch\n",
    "from torch.utils.data import TensorDataset, DataLoader, RandomSampler, SequentialSampler\n",
    "from keras.preprocessing.sequence import pad_sequences\n",
    "from sklearn.model_selection import train_test_split\n",
    "from pytorch_pretrained_bert import BertTokenizer, BertConfig\n",
    "from pytorch_pretrained_bert import BertAdam, BertForSequenceClassification\n",
    "from tqdm import tqdm, trange\n",
    "import pandas as pd\n",
    "import io\n",
    "import numpy as np\n",
    "import matplotlib.pyplot as plt\n",
    "%matplotlib inline\n",
    "\n",
    "# specify GPU device\n",
    "device = torch.device(\"cuda\" if torch.cuda.is_available() else \"cpu\")\n",
    "if torch.cuda.is_available():\n",
    "    n_gpu = torch.cuda.device_count()\n",
    "    torch.cuda.get_device_name(0)"
   ]
  },
  {
   "cell_type": "code",
   "execution_count": null,
   "metadata": {},
   "outputs": [],
   "source": [
    "# uploading the dataset\n",
    "from google.colab import files\n",
    "uploaded = files.upload()"
   ]
  },
  {
   "cell_type": "code",
   "execution_count": null,
   "metadata": {},
   "outputs": [],
   "source": [
    "df = pd.read_csv(\"IMDB Dataset.csv\",engine='python', error_bad_lines=False)\n",
    "df.head()"
   ]
  },
  {
   "cell_type": "code",
   "execution_count": null,
   "metadata": {},
   "outputs": [],
   "source": [
    "from sklearn.preprocessing import LabelEncoder\n",
    "\n",
    "#sentiment is positive and negative we need to convert it to 0,1\n",
    "le = LabelEncoder()\n",
    "df[\"sentiment\"] = le.fit_transform(df[\"sentiment\"])"
   ]
  },
  {
   "cell_type": "code",
   "execution_count": null,
   "metadata": {},
   "outputs": [],
   "source": [
    "\n",
    "df['sentiment'].value_counts()"
   ]
  },
  {
   "cell_type": "code",
   "execution_count": null,
   "metadata": {},
   "outputs": [],
   "source": [
    "#cleaning the text\n",
    "from bs4 import BeautifulSoup\n",
    "import re\n",
    "\n",
    "def strip(text):\n",
    "    soup = BeautifulSoup(text, \"html.parser\")\n",
    "    text = re.sub('\\[[^]]*\\]', '', soup.get_text())\n",
    "    pattern=r\"[^a-zA-z0-9\\s,']\"\n",
    "    text=re.sub(pattern,'',text)\n",
    "    return text\n",
    "\n",
    "df['review']=df['review'].apply(strip)"
   ]
  },
  {
   "cell_type": "code",
   "execution_count": null,
   "metadata": {},
   "outputs": [],
   "source": [
    "df.head()"
   ]
  },
  {
   "cell_type": "markdown",
   "metadata": {},
   "source": [
    "\n",
    "BERT expects input data in a specific format\n",
    "\n",
    "We are performing a classification task so we use a special token [CLS] to indicate this to BERT.\n",
    "It needs to know the end of a sentence so we use the [SEP] token."
   ]
  },
  {
   "cell_type": "code",
   "execution_count": null,
   "metadata": {},
   "outputs": [],
   "source": [
    "#BERT needs to understand 2 things:\n",
    "#1) The start and end of each sentiment\n",
    "# so we declare a special token CLS which tells BERT that its a classification task\n",
    "sentences = df['review']\n",
    "sentence = [\"[CLS] \"+i+\" [SEP]\" for i in sentences]"
   ]
  },
  {
   "cell_type": "code",
   "execution_count": null,
   "metadata": {},
   "outputs": [],
   "source": [
    "sentence[0]"
   ]
  },
  {
   "cell_type": "code",
   "execution_count": null,
   "metadata": {},
   "outputs": [],
   "source": [
    "# Tokenize with BERT tokenizer\n",
    "tokenizer = BertTokenizer.from_pretrained('bert-base-uncased', do_lower_case=True)\n",
    "\n",
    "# Restricting the max size of Tokens to 512(BERT doest accept any more than this)\n",
    "tokenized_texts = list(map(lambda t: tokenizer.tokenize(t)[:510] , sentence))\n",
    "print (\"Tokenize the first sentence:\")\n",
    "print (tokenized_texts[0])"
   ]
  },
  {
   "cell_type": "code",
   "execution_count": null,
   "metadata": {},
   "outputs": [],
   "source": [
    "labels = list(df['sentiment'])#storing the labels"
   ]
  },
  {
   "cell_type": "code",
   "execution_count": null,
   "metadata": {},
   "outputs": [],
   "source": [
    "# Set the maximum sequence length. \n",
    "MAX_LEN = 128\n",
    "\n",
    "# Pad our input tokens so that everything has a uniform length\n",
    "input_ids = pad_sequences(list(map(tokenizer.convert_tokens_to_ids, tokenized_texts)),\n",
    "                          maxlen=MAX_LEN, dtype=\"long\", truncating=\"post\", padding=\"post\")"
   ]
  },
  {
   "cell_type": "code",
   "execution_count": null,
   "metadata": {},
   "outputs": [],
   "source": [
    "# Use the BERT tokenizer to convert the tokens to their index numbers in the BERT vocabulary\n",
    "input_ids = [tokenizer.convert_tokens_to_ids(x) for x in tokenized_texts]\n",
    "input_ids = pad_sequences(input_ids, maxlen=MAX_LEN, dtype=\"long\", truncating=\"post\", padding=\"post\")"
   ]
  },
  {
   "cell_type": "code",
   "execution_count": null,
   "metadata": {},
   "outputs": [],
   "source": [
    "# Create attention masks\n",
    "attention_masks = []\n",
    "# Create a mask of 1s for each token followed by 0s for padding\n",
    "for seq in input_ids:\n",
    "  seq_mask = [float(i>0) for i in seq]\n",
    "  attention_masks.append(seq_mask)"
   ]
  },
  {
   "cell_type": "code",
   "execution_count": null,
   "metadata": {},
   "outputs": [],
   "source": [
    "# Select a batch size for training. \n",
    "batch_size = 16\n",
    "\n",
    "# Use train_test_split to split our data into train and validation sets for training\n",
    "train_inputs, validation_inputs, train_labels, validation_labels = train_test_split(input_ids, labels, \n",
    "                                                            random_state=2018, test_size=0.1)\n",
    "train_masks, validation_masks, _, _ = train_test_split(attention_masks, input_ids,\n",
    "                                             random_state=2018, test_size=0.1)\n",
    "                                             \n",
    "# Convert all of our data into torch tensors, the required datatype for our model\n",
    "train_inputs = torch.tensor(train_inputs)\n",
    "validation_inputs = torch.tensor(validation_inputs)\n",
    "train_labels = torch.tensor(train_labels)\n",
    "validation_labels = torch.tensor(validation_labels)\n",
    "train_masks = torch.tensor(train_masks)\n",
    "validation_masks = torch.tensor(validation_masks)\n",
    "\n",
    "# Create an iterator of our data with torch DataLoader \n",
    "train_data = TensorDataset(train_inputs, train_masks, train_labels)\n",
    "train_sampler = RandomSampler(train_data)\n",
    "train_dataloader = DataLoader(train_data, sampler=train_sampler, batch_size=batch_size)\n",
    "validation_data = TensorDataset(validation_inputs, validation_masks, validation_labels)\n",
    "validation_sampler = SequentialSampler(validation_data)\n",
    "validation_dataloader = DataLoader(validation_data, sampler=validation_sampler, batch_size=batch_size)"
   ]
  },
  {
   "cell_type": "code",
   "execution_count": null,
   "metadata": {},
   "outputs": [],
   "source": [
    "#Loading pre trained BERT\n",
    "model = BertForSequenceClassification.from_pretrained(\"bert-base-uncased\", num_labels=2)#binary classification\n",
    "model.cuda()"
   ]
  },
  {
   "cell_type": "code",
   "execution_count": null,
   "metadata": {},
   "outputs": [],
   "source": [
    "# BERT fine-tuning parameters\n",
    "param_optimizer = list(model.named_parameters())\n",
    "no_decay = ['bias', 'gamma', 'beta']\n",
    "optimizer_grouped_parameters = [\n",
    "    {'params': [p for n, p in param_optimizer if not any(nd in n for nd in no_decay)],\n",
    "     'weight_decay_rate': 0.01},\n",
    "    {'params': [p for n, p in param_optimizer if any(nd in n for nd in no_decay)],\n",
    "     'weight_decay_rate': 0.0}\n",
    "]\n",
    "\n",
    "optimizer = BertAdam(optimizer_grouped_parameters,\n",
    "                     lr=2e-5,\n",
    "                     warmup=.1)\n",
    "\n",
    "# Function to calculate the accuracy of our predictions vs labels\n",
    "def flat_accuracy(preds, labels):\n",
    "    pred_flat = np.argmax(preds, axis=1).flatten()\n",
    "    labels_flat = labels.flatten()\n",
    "    return np.sum(pred_flat == labels_flat) / len(labels_flat)\n",
    "\n",
    "torch.cuda.empty_cache() \n",
    "# Store our loss and accuracy for plotting\n",
    "train_loss_set = []\n",
    "# Number of training epochs \n",
    "epochs = 4\n",
    "\n",
    "# BERT training loop\n",
    "for _ in trange(epochs, desc=\"Epoch\"):  \n",
    "  \n",
    "  ## TRAINING\n",
    "  \n",
    "  # Set our model to training mode\n",
    "  model.train()  \n",
    "  # Tracking variables\n",
    "  tr_loss = 0\n",
    "  nb_tr_examples, nb_tr_steps = 0, 0\n",
    "  # Train the data for one epoch\n",
    "  for step, batch in enumerate(train_dataloader):\n",
    "    # Add batch to GPU\n",
    "    batch = tuple(t.to(device) for t in batch)\n",
    "    # Unpack the inputs from our dataloader\n",
    "    b_input_ids, b_input_mask, b_labels = batch\n",
    "    # Clear out the gradients (by default they accumulate)\n",
    "    optimizer.zero_grad()\n",
    "    # Forward pass\n",
    "    loss = model(b_input_ids, token_type_ids=None, attention_mask=b_input_mask, labels=b_labels)\n",
    "    train_loss_set.append(loss.item())    \n",
    "    # Backward pass\n",
    "    loss.backward()\n",
    "    # Update parameters and take a step using the computed gradient\n",
    "    optimizer.step()\n",
    "    # Update tracking variables\n",
    "    tr_loss += loss.item()\n",
    "    nb_tr_examples += b_input_ids.size(0)\n",
    "    nb_tr_steps += 1\n",
    "  print(\"Train loss: {}\".format(tr_loss/nb_tr_steps))\n",
    "       \n",
    "  ## VALIDATION\n",
    "\n",
    "  # Put model in evaluation mode\n",
    "  model.eval()\n",
    "  # Tracking variables \n",
    "  eval_loss, eval_accuracy = 0, 0\n",
    "  nb_eval_steps, nb_eval_examples = 0, 0\n",
    "  # Evaluate data for one epoch\n",
    "  for batch in validation_dataloader:\n",
    "    # Add batch to GPU\n",
    "    batch = tuple(t.to(device) for t in batch)\n",
    "    # Unpack the inputs from our dataloader\n",
    "    b_input_ids, b_input_mask, b_labels = batch\n",
    "    # Telling the model not to compute or store gradients, saving memory and speeding up validation\n",
    "    with torch.no_grad():\n",
    "      # Forward pass, calculate logit predictions\n",
    "      logits = model(b_input_ids, token_type_ids=None, attention_mask=b_input_mask)    \n",
    "    # Move logits and labels to CPU\n",
    "    logits = logits.detach().cpu().numpy()\n",
    "    label_ids = b_labels.to('cpu').numpy()\n",
    "    tmp_eval_accuracy = flat_accuracy(logits, label_ids)    \n",
    "    eval_accuracy += tmp_eval_accuracy\n",
    "    nb_eval_steps += 1\n",
    "  print(\"Validation Accuracy: {}\".format(eval_accuracy/nb_eval_steps))\n",
    "\n",
    "# plot training performance\n",
    "plt.figure(figsize=(15,8))\n",
    "plt.title(\"Training loss\")\n",
    "plt.xlabel(\"Batch\")\n",
    "plt.ylabel(\"Loss\")\n",
    "plt.plot(train_loss_set)\n",
    "plt.show()"
   ]
  },
  {
   "cell_type": "code",
   "execution_count": null,
   "metadata": {},
   "outputs": [],
   "source": [
    "!pip3 install ktrain==0.2.2"
   ]
  },
  {
   "cell_type": "code",
   "execution_count": null,
   "metadata": {},
   "outputs": [],
   "source": [
    "#Importing\n",
    "import ktrain\n",
    "from ktrain import text"
   ]
  },
  {
   "cell_type": "code",
   "execution_count": null,
   "metadata": {},
   "outputs": [],
   "source": [
    "#obtain the dataset\n",
    "import tensorflow as tf\n",
    "dataset = tf.keras.utils.get_file(\n",
    "    fname=\"aclImdb.tar.gz\", \n",
    "    origin=\"http://ai.stanford.edu/~amaas/data/sentiment/aclImdb_v1.tar.gz\", \n",
    "    extract=True,\n",
    ")"
   ]
  },
  {
   "cell_type": "code",
   "execution_count": null,
   "metadata": {},
   "outputs": [],
   "source": [
    "# set path to dataset\n",
    "import os.path\n",
    "dataset = '/root/.keras/datasets/aclImdb'\n",
    "IMDB_DATADIR = os.path.join(os.path.dirname(dataset), 'aclImdb')\n",
    "print(IMDB_DATADIR)"
   ]
  },
  {
   "cell_type": "code",
   "execution_count": null,
   "metadata": {},
   "outputs": [],
   "source": [
    "(x_train, y_train), (x_test, y_test), preproc = text.texts_from_folder(IMDB_DATADIR, \n",
    "                                                                       maxlen=500, \n",
    "                                                                       preprocess_mode='bert',\n",
    "                                                                       train_test_names=['train', \n",
    "                                                                                         'test'],\n",
    "                                                                       classes=['pos', 'neg'])"
   ]
  },
  {
   "cell_type": "code",
   "execution_count": null,
   "metadata": {},
   "outputs": [],
   "source": [
    "model = text.text_classifier('bert', (x_train, y_train), preproc=preproc)\n",
    "learner = ktrain.get_learner(model,train_data=(x_train, y_train), val_data=(x_test, y_test), batch_size=6)"
   ]
  },
  {
   "cell_type": "code",
   "execution_count": null,
   "metadata": {},
   "outputs": [],
   "source": [
    "learner.fit_onecycle(2e-5, 4)"
   ]
  },
  {
   "cell_type": "markdown",
   "metadata": {},
   "source": [
    "### Interpreting Text Classification Models\n",
    "\n",
    "unlike heuristic-based approach where the prediction can be juctify by tracking back the rules applied on the data sample. ML modesl are treated as block box while making prediction. Most of the use cases we really don't care why the classifier came to that result. we never really question it's decision. there may be scenerios where explanation is necessary. for example absuive command detection. we need to why the model marked the specific commnad as abusive. as ML model started getting deployed in real-world applications, intrest in the direction of model interpretability grew.  Lime is one of the tool that attempts to interept a black-box classification model by approximating it with a linear model locally around a given training instance. The advantage of this is that such a linear mmodel is expressed as weight sum of its features and is easy to intrept for humans.\n"
   ]
  },
  {
   "cell_type": "code",
   "execution_count": null,
   "metadata": {},
   "outputs": [],
   "source": [
    "from lime import lime_text\n",
    "from lime.lime_text import LimeTextExplainer\n",
    "from sklearn.pipeline import make_pipeline\n",
    "\n",
    "y_pred_prob = classifier.predict_proba(X_test_dtm)[:, 1]\n",
    "c = make_pipeline(vect, classifier)\n",
    "mystring = list(X_test)[221] #Take a string from test instance\n",
    "print(c.predict_proba([mystring])) #Prediction is a \"No\" here. i.e., not relevant\n",
    "class_names = [\"no\", \"yes\"] #not relevant, relevant\n",
    "explainer = LimeTextExplainer(class_names=class_names)\n",
    "exp = explainer.explain_instance(mystring, c.predict_proba, num_features=6)\n",
    "exp.as_list()"
   ]
  },
  {
   "cell_type": "code",
   "execution_count": null,
   "metadata": {},
   "outputs": [],
   "source": [
    "%matplotlib inline\n",
    "fig = exp.as_pyplot_figure()"
   ]
  },
  {
   "cell_type": "code",
   "execution_count": null,
   "metadata": {},
   "outputs": [],
   "source": [
    "exp.show_in_notebook(text=False)"
   ]
  },
  {
   "cell_type": "code",
   "execution_count": null,
   "metadata": {},
   "outputs": [],
   "source": [
    "import matplotlib.pyplot as plt\n",
    "import seaborn as sns\n",
    "%matplotlib inline\n",
    "from collections import OrderedDict\n",
    "from lime.lime_text import LimeTextExplainer\n",
    "\n",
    "explainer = LimeTextExplainer(class_names=class_names)\n",
    "explanation = explainer.explain_instance(text_sample, pipeline.predict_proba, num_features=10)\n",
    "\n",
    "weights = OrderedDict(explanation.as_list())\n",
    "lime_weights = pd.DataFrame({'words': list(weights.keys()), 'weights': list(weights.values())})\n",
    "\n",
    "sns.barplot(x=\"words\", y=\"weights\", data=lime_weights);\n",
    "plt.xticks(rotation=45)\n",
    "plt.title('Sample {} features weights given by LIME'.format(idx));"
   ]
  },
  {
   "cell_type": "markdown",
   "metadata": {},
   "source": [
    "## Learning with No or Less Data and Adapting to New Domains\n",
    "\n",
    "In most scenarios relatively large set of training data available for the task. However in most real"
   ]
  },
  {
   "cell_type": "markdown",
   "metadata": {},
   "source": []
  },
  {
   "cell_type": "code",
   "execution_count": null,
   "metadata": {},
   "outputs": [],
   "source": []
  },
  {
   "cell_type": "code",
   "execution_count": null,
   "metadata": {},
   "outputs": [],
   "source": []
  },
  {
   "cell_type": "code",
   "execution_count": null,
   "metadata": {},
   "outputs": [],
   "source": []
  },
  {
   "cell_type": "code",
   "execution_count": null,
   "metadata": {},
   "outputs": [],
   "source": []
  },
  {
   "cell_type": "code",
   "execution_count": null,
   "metadata": {},
   "outputs": [],
   "source": []
  },
  {
   "cell_type": "code",
   "execution_count": null,
   "metadata": {},
   "outputs": [],
   "source": []
  }
 ],
 "metadata": {
  "kernelspec": {
   "display_name": "Python 3",
   "language": "python",
   "name": "python3"
  },
  "language_info": {
   "codemirror_mode": {
    "name": "ipython",
    "version": 3
   },
   "file_extension": ".py",
   "mimetype": "text/x-python",
   "name": "python",
   "nbconvert_exporter": "python",
   "pygments_lexer": "ipython3",
   "version": "3.7.8"
  }
 },
 "nbformat": 4,
 "nbformat_minor": 4
}
