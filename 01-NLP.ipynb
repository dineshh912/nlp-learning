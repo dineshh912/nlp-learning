{
 "cells": [
  {
   "cell_type": "markdown",
   "metadata": {},
   "source": [
    "## Introduction\n",
    "\n",
    "    We talk with smart assistance such as amazon alxa, google home, pple siri to do many of our day to day tasks. we talk to these assistents not in a programming languages, but in our natural language. Natural language is primary medium of communication since the beginning. but computers can only process data in binary. In the area of computer science that deals with methods to analaze, model and understand human language.\n",
    " \n",
    "### Application using NLP\n",
    "    * Email platform such as Gmail use NLP toprovide range of features, such as spam classification, priority inbox, calendar event, auto complete etc.,\n",
    "    * Voice based assistents - Interact with user, understand user commands\n",
    "    * Search engines - Query understanding, query expansion, question answering,information retrival\n",
    "    * Machine Translation - Google translate, amazon translate etc.,\n",
    "    * Analyze social media feed to understand customer voice.\n",
    "    * E commerce - Extracting relavent information, understanding user reviews\n",
    "    * Automatic report generaion.\n",
    "    * Spelling and grammar correction tools\n",
    "    * Automated scoring in exam, Plagiarism detection\n",
    "    * Large knowledge base"
   ]
  },
  {
   "cell_type": "markdown",
   "metadata": {},
   "source": [
    "#### Language Modeling\n",
    "    It's the task of predicting what the next word in a sentence will be based on the history of previous words. Goal is to learn probability of a sequence words appearing in a given language. \n",
    "\n",
    "#### Text classification\n",
    "    Grouping text into known set of categories on its content. \n",
    "\n",
    "#### Information extraction\n",
    "    Extracting relevant information from text.\n",
    "\n",
    "#### Information retrieval\n",
    "    Finding documents relevant to user query from large collection.\n",
    "\n",
    "#### Conversational agent\n",
    "    Dialogue systems that can converse in human language. (alexa, siri)\n",
    "\n",
    "#### Text Summarization\n",
    "    create short summaries of longer document while retaining the core content and preserve overall meaning of the document.\n",
    "\n",
    "#### Question answering\n",
    "    System that can automatically answer questions posed in natural language.\n",
    "\n",
    "#### Machine translation\n",
    "    Converting text from one language to another while preserving it's meaning.\n",
    "\n",
    "#### Topic modeling\n",
    "    Uncovering topical structure of a large collection of docs.\n",
    "\n"
   ]
  },
  {
   "cell_type": "markdown",
   "metadata": {},
   "source": [
    "### Language\n",
    "    Language is a structured system of communication that involves complex combinations of its components such as characters, word, sentences etc.\n",
    "\n",
    "    Human language composed of four major building blocks\n",
    "\n",
    "        * Phonems - speech and sounds ( speech to text, speaker identification, text to speech )\n",
    "        * Morphemes and lexemes - Words ( Tokeniztion, word embeddings, POS Tagging )\n",
    "        * Syntax - Phrases & sentences ( Parsing, Entity extraction, relation extraction )\n",
    "        * context - meaning (Summarization, Topic modeling, sentiment analysis)\n",
    "\n",
    "\n",
    "#### Phonems\n",
    "    Phonems are the smallest unit of the sound in a language. They may not have any meaning by themselves but can induce meanings when uttered in combination with other phonems.\n",
    "\n",
    "#### Morphemes and lexemes\n",
    "    Morphemes is the smallest unit of the language that has a meaning. It formed by combination of phonemes. Not all morphemes are words but all prefix and suffix are morphemes. \n",
    "\n",
    "    Lexemes are the structural variation of morphemes related to one another by meaning. Ex Run and running belong to the same lexeme. lexeme is a foundation block for many nlp tasks such as tokenization, stemming, word embeddings, POS tagging.\n",
    "\n",
    "#### Syntax\n",
    "    Syntax is a set of rules to construct grammatically correct sentences out of words and phrases in a language.\n",
    "\n",
    "#### Context\n",
    "    Context is how various parts in a language come together to convey a particular meaning. The meaning of a sentence\n",
    "    can change based on the context, as words and phrases can sometimes have multiple meanings. generally context composed of sematic and pragatics. sematic is the direct meaning with out external context. pragmatics adds world knowledege and external context of the conversation to enaable us to infer implied meaning. (sarcasm detection, summarization, topic modeling)"
   ]
  },
  {
   "cell_type": "markdown",
   "metadata": {},
   "source": [
    "### Why is NLP Challenging?\n",
    "\n",
    "    The ambiguity and creativity of human language are just two if the characteristics that make nlp more challenging. \n",
    "\n",
    "#### Ambiguity of Language\n",
    "    Uncertainity of meaning. most human languages are inherently ambiguous.\n",
    "\n",
    "    * \"i made her duck\" - This sentence have mulitple meaning based on the context. \n",
    "    * “He is as good as John Doe.” - Figurative languages increase the ambiguity\n",
    "\n",
    "### One of the key challenges in NLP is how to encode all the things that are common knowledge to humans in a computational model.\n",
    "\n",
    "#### Creativity\n",
    "    Language is not just rule based. there is also creativity to it. various style, dialects, geners and variation are used in any language eg: Poem\n",
    "\n",
    "#### Diversity across languages\n",
    "    For most language ther is no direct mapping between the vocabularies of any two language. it make nlp solution harder. eithe nlp model needs to be languge agonistic or needs to be developed foe each and every language."
   ]
  },
  {
   "cell_type": "markdown",
   "metadata": {},
   "source": [
    "### Approaches to NLP\n",
    "\n",
    "    * Heuristic-based NLP\n",
    "    * Machine learning\n",
    "    * Deep learning\n",
    "    * Reinforced learning\n",
    "\n",
    "#### Heuristic-based NLP\n",
    "    * Building Rules for the task at hand.\n",
    "    * This requires some expertis in the domain to formlate rule.\n",
    "    * Also requiree resources like dictionaries, thesauruses.\n",
    "    * Word net have been built to aid rule based nlp.\n",
    "    * Word net is a database of word and the semantic relation between them. \n",
    "    * It capture synonyms, hyponyms, meronyms.\n",
    "    * synonyms - Word with similar meaning\n",
    "    * hyponyms - Capture type of relationships. (foodball, cricket - Sports)\n",
    "    * meronyms - Capture part of relationship. (hands, leg - meronyms of body)\n",
    "\n",
    "#### Machine learning\n",
    "    * Extracting features from text\n",
    "    * using feature representation to learn a model\n",
    "    * Evaluate and improve the model\n",
    "    * Naive bayes, SVM, Hidden markov model, conditional random field\n",
    "\n",
    "#### Deep learning\n",
    "    * LSTM\n",
    "    * CNN\n",
    "    * Auto encoders\n",
    "    * Transformers\n",
    "    * RNN\n",
    "\n",
    "#### Problem with deeplearning NLP\n",
    "    * Overfitting on small datasets\n",
    "    * Fewshot learning and synthetic data generation\n",
    "    * Domain adaption\n",
    "    * Interpretable models\n",
    "    * Common sense and world knowledge\n",
    "    * Cost\n",
    "    * On-device deployment\n",
    "\n",
    "\n"
   ]
  },
  {
   "cell_type": "markdown",
   "metadata": {},
   "source": [
    "### Conversational agent flow\n",
    "\n",
    "##### Speech recognition and syntheis\n",
    "    It's the main components of any voice-based conversational agent. speech reg convert speech signal to their phonemes. which the converted into words. sppech synthesis achieve the same with reverse process by transforming textual results into spoken language. \n",
    "    \n",
    "#### Natural language understanding\n",
    "    once words received the text analyzed using different technice based on the use case. sentiment analysis, named entity recognition, coreference resolution.\n",
    "\n",
    "#### Dialog management\n",
    "    once find the useful information from user speech, we need to find the intent of the words.\n",
    "\n",
    "#### Response managment\n",
    "    senf response back to user using speech syntheis"
   ]
  },
  {
   "cell_type": "markdown",
   "metadata": {},
   "source": [
    "Pattern Recognition and Machine Learning by Christopher Bishop "
   ]
  },
  {
   "cell_type": "code",
   "execution_count": null,
   "metadata": {},
   "outputs": [],
   "source": []
  }
 ],
 "metadata": {
  "kernelspec": {
   "display_name": "Python 3",
   "language": "python",
   "name": "python3"
  },
  "language_info": {
   "codemirror_mode": {
    "name": "ipython",
    "version": 3
   },
   "file_extension": ".py",
   "mimetype": "text/x-python",
   "name": "python",
   "nbconvert_exporter": "python",
   "pygments_lexer": "ipython3",
   "version": "3.8.5"
  }
 },
 "nbformat": 4,
 "nbformat_minor": 4
}
