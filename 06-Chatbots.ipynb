{
 "cells": [
  {
   "cell_type": "markdown",
   "metadata": {},
   "source": [
    "# Chatbots\n",
    "    \n",
    "    Chatbots are interactive systems that allows users to intract in natural language. \n",
    "    \n",
    "    * Shopping and e-commerce: Placing, modifying order, paymeent. recommending product. building conversational recommentation system to provide a more semless user experience.\n",
    "    * News & Content discovery: \n",
    "    * Customer service- Complaints, FAQ, pre-defined control flow\n",
    "    * Medical - FAQ bot, fetch relevant info quickly.\n",
    "    * Legal - FAQ for users. asking follow up question.\n"
   ]
  },
  {
   "cell_type": "markdown",
   "metadata": {},
   "source": [
    "## Simple FAQ Bot\n",
    "    It's a simple Q&A system, where user enter question and program looks for correct answers. "
   ]
  },
  {
   "cell_type": "markdown",
   "metadata": {},
   "source": [
    "Based on their various use case and various domains. chatbots classified in many ways. \n",
    "    \n",
    "    * Exact answer or FAQ bot with limited conversation.(It's don't depend on the previous user response)\n",
    "    * Flow based bot\n",
    "    * Open ended bot"
   ]
  },
  {
   "cell_type": "markdown",
   "metadata": {},
   "source": [
    "Goal oriented chat bot- it's easy to design when end goal is known. most of the chatbot are goal oriented. either book a movie, flight etc., These type of chatbot need domain-knowledge. this create a problem in generability and scalability.\n",
    "\n",
    "Chitchat bot are open domina conversation without any specific goals."
   ]
  },
  {
   "cell_type": "markdown",
   "metadata": {},
   "source": [
    "## Chat bot Pipeline\n",
    "\n",
    "Speech Recognition => NLU => Dialog Manager => NLG => Text-to-speech synthesis"
   ]
  },
  {
   "cell_type": "markdown",
   "metadata": {},
   "source": [
    "Speech recognition :\n",
    "    It work as a interface between human and machine. Speech reg algo convert speech into natural text. \n",
    "    \n",
    "NLU : \n",
    "    After converted speech into text, the system tries to analyze and understand the transcribed text. (Sentiment, NER, Corefercen)\n",
    "\n",
    "Dialog & Task Manager :\n",
    "    main component where it will take decision based on previous utterences etc.,"
   ]
  },
  {
   "cell_type": "markdown",
   "metadata": {},
   "source": [
    "The main idea of a dialog system or chatbot is to understand a user’s query or input and to provide an appropriate response.\n",
    "\n",
    "intent, slot or entity, Dialoge state, "
   ]
  }
 ],
 "metadata": {
  "kernelspec": {
   "display_name": "Python 3",
   "language": "python",
   "name": "python3"
  },
  "language_info": {
   "codemirror_mode": {
    "name": "ipython",
    "version": 3
   },
   "file_extension": ".py",
   "mimetype": "text/x-python",
   "name": "python",
   "nbconvert_exporter": "python",
   "pygments_lexer": "ipython3",
   "version": "3.7.8"
  }
 },
 "nbformat": 4,
 "nbformat_minor": 4
}
