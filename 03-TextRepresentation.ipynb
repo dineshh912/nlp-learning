{
 "cells": [
  {
   "cell_type": "markdown",
   "metadata": {},
   "source": [
    "# Text Representation\n",
    "    Feature extraction is an important step in machine learning problem. Conversion of raw text to a suitable numerical form is called text representation. \n",
    "    \n",
    "    Feature representation is a common step in any ML Project. \n",
    "        * For example for images the data(oixel value) can be stored in the form of matrix.\n",
    "        * video also similar like image, since video is nothing but collection of image, it can be represent as a sequential collection of matrices. \n",
    "        * Speech - transmitted as a wave. we sample the wave and record it's amplitude(height). THis will give numerical repersentation in fixed time intervals.\n",
    "        \n",
    "    Text representation classified into four categories:\n",
    "        * Basic vectorization approaches\n",
    "        * Distributed representations\n",
    "        * Universal Language representation\n",
    "        * Handcrafted features\n",
    "        \n",
    "        "
   ]
  },
  {
   "cell_type": "markdown",
   "metadata": {},
   "source": [
    "Consider the scenario where we need to make the sentiment analysis model. The following steps needs to be involved.\n",
    "\n",
    "* Break the sentences into lexical unit - lexemes, words, phrases\n",
    "* Derive the meaning for each of the lexical units\n",
    "* Undestand grammatical structure of the sentences\n",
    "* Understand the context in which the sentence appears.\n"
   ]
  },
  {
   "cell_type": "markdown",
   "metadata": {},
   "source": []
  },
  {
   "cell_type": "markdown",
   "metadata": {},
   "source": []
  },
  {
   "cell_type": "markdown",
   "metadata": {},
   "source": []
  },
  {
   "cell_type": "markdown",
   "metadata": {},
   "source": []
  },
  {
   "cell_type": "code",
   "execution_count": null,
   "metadata": {},
   "outputs": [],
   "source": []
  }
 ],
 "metadata": {
  "kernelspec": {
   "display_name": "Python 3",
   "language": "python",
   "name": "python3"
  },
  "language_info": {
   "codemirror_mode": {
    "name": "ipython",
    "version": 3
   },
   "file_extension": ".py",
   "mimetype": "text/x-python",
   "name": "python",
   "nbconvert_exporter": "python",
   "pygments_lexer": "ipython3",
   "version": "3.8.5"
  }
 },
 "nbformat": 4,
 "nbformat_minor": 4
}
